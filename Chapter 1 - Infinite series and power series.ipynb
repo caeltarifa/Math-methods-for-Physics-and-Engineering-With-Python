{
 "cells": [
  {
   "attachments": {},
   "cell_type": "markdown",
   "metadata": {},
   "source": [
    "### Arithmetic series"
   ]
  },
  {
   "attachments": {
    "image-2.png": {
     "image/png": "[encoded data removed]"
    },
    "image-3.png": {
     "image/png": "[encoded data removed]"
    }
   },
   "cell_type": "markdown",
   "metadata": {},
   "source": [
    "The relevant charasteristic is that the difference between sucessions is constant\n",
    "\n",
    "![image-3.png](attachment:image-3.png)\n",
    "\n",
    "rewritten the expression, we have\n",
    "\n",
    "![image-2.png](attachment:image-2.png)"
   ]
  },
  {
   "cell_type": "code",
   "execution_count": 4,
   "metadata": {},
   "outputs": [
    {
     "data": {
      "text/plain": [
       "1395372176.0"
      ]
     },
     "execution_count": 4,
     "metadata": {},
     "output_type": "execute_result"
    }
   ],
   "source": [
    "def arithmetic_serie(start_term_a: float | int ,\n",
    "                     nth_term: int , \n",
    "                     constant_ratio_d: float | int) -> float | int:\n",
    "    \"\"\"\n",
    "    Calculates the sum of an arithmetic series.\n",
    "\n",
    "    Args:\n",
    "        start_term_a: The first term of the arithmetic series.\n",
    "        nth_term: The position of the term to be calculated.\n",
    "        constant_ratio_d: The common difference between consecutive terms.\n",
    "\n",
    "    Returns:\n",
    "        The sum of the arithmetic series up to the nth term.\n",
    "\n",
    "    Example:\n",
    "    >>> arithmetic_serie(43.322, 8000,43.6)\n",
    "    1395372176.0\n",
    "    \"\"\"\n",
    "    first_term = start_term_a\n",
    "    last_term = start_term_a + ((nth_term-1)*constant_ratio_d)\n",
    "    return nth_term/2 * (first_term + last_term)"
   ]
  },
  {
   "attachments": {},
   "cell_type": "markdown",
   "metadata": {},
   "source": [
    "### Geometric series"
   ]
  },
  {
   "attachments": {
    "image-2.png": {
     "image/png": "[encoded data removed]"
    }
   },
   "cell_type": "markdown",
   "metadata": {},
   "source": [
    "As a simple example of many of the ideas involved in series, we are going to consider\n",
    "the geometric series. You may recall that in a geometric progression we multiply\n",
    "each term by some ﬁxed number to get the next term. For example, the sequences are geometric progressions:\n",
    "\n",
    "\n",
    "![image-2.png](attachment:image-2.png)"
   ]
  },
  {
   "attachments": {
    "image-2.png": {
     "image/png": "[encoded data removed]"
    }
   },
   "cell_type": "markdown",
   "metadata": {},
   "source": [
    "And, by the exposed, this is the general form:\n",
    "\n",
    "![image-2.png](attachment:image-2.png)"
   ]
  },
  {
   "cell_type": "code",
   "execution_count": 1,
   "metadata": {},
   "outputs": [],
   "source": [
    "def geometric_series(\n",
    "    nth_term: float | int,\n",
    "    start_term_a: float | int,\n",
    "    common_ratio_r: float | int,\n",
    ") -> list[float | int]:\n",
    "    \"\"\"\n",
    "    Pure Python implementation of Geometric Series algorithm\n",
    "\n",
    "    :param nth_term: The last term (nth term of Geometric Series)\n",
    "    :param start_term_a : The first term of Geometric Series\n",
    "    :param common_ratio_r : The common ratio between all the terms\n",
    "    :return: The Geometric Series starting from first term a and multiple of common\n",
    "        ration with first term with increase in power till last term (nth term)\n",
    "    Examples:\n",
    "    >>> geometric_series(4, 2, 2)\n",
    "    [2, 4.0, 8.0, 16.0]\n",
    "    >>> geometric_series(4.0, 2.0, 2.0)\n",
    "    [2.0, 4.0, 8.0, 16.0]\n",
    "    >>> geometric_series(4.1, 2.1, 2.1)\n",
    "    [2.1, 4.41, 9.261000000000001, 19.448100000000004]\n",
    "    >>> geometric_series(4, 2, -2)\n",
    "    [2, -4.0, 8.0, -16.0]\n",
    "    >>> geometric_series(4, -2, 2)\n",
    "    [-2, -4.0, -8.0, -16.0]\n",
    "    >>> geometric_series(-4, 2, 2)\n",
    "    []\n",
    "    >>> geometric_series(0, 100, 500)\n",
    "    []\n",
    "    >>> geometric_series(1, 1, 1)\n",
    "    [1]\n",
    "    >>> geometric_series(0, 0, 0)\n",
    "    []\n",
    "    \"\"\"\n",
    "    if not all((nth_term, start_term_a, common_ratio_r)):\n",
    "        return []\n",
    "    series: list[float | int] = []\n",
    "    power = 1\n",
    "    multiple = common_ratio_r\n",
    "    for _ in range(int(nth_term)):\n",
    "        if not series:\n",
    "            series.append(start_term_a)\n",
    "        else:\n",
    "            power += 1\n",
    "            series.append(float(start_term_a * multiple))\n",
    "            multiple = pow(float(common_ratio_r), power)\n",
    "    return series"
   ]
  },
  {
   "cell_type": "code",
   "execution_count": 5,
   "metadata": {},
   "outputs": [],
   "source": [
    "nth_term = float(input(\"Enter the last number (n term) of the Geometric Series\"))\n",
    "start_term_a = float(input(\"Enter the starting term (a) of the Geometric Series\"))\n",
    "common_ratio_r = float(\n",
    "    input(\"Enter the common ratio between two terms (r) of the Geometric Series\")\n",
    ")\n",
    "print(\"Formula of Geometric Series => a + ar + ar^2 ... +ar^n\")\n",
    "print(geometric_series(nth_term, start_term_a, common_ratio_r))"
   ]
  },
  {
   "attachments": {},
   "cell_type": "markdown",
   "metadata": {},
   "source": [
    "### Sum of a successive serie"
   ]
  },
  {
   "attachments": {
    "image-2.png": {
     "image/png": "[encoded data removed]"
    },
    "image.png": {
     "image/png": "[encoded data removed]"
    }
   },
   "cell_type": "markdown",
   "metadata": {},
   "source": [
    "Since the sum of n terms of the geometric progression\n",
    "\n",
    "![image.png](attachment:image.png) \n",
    "\n",
    "It is possible to calculate the sum of the geometric serie (if this has one) by the below definition:\n",
    "\n",
    "![image-2.png](attachment:image-2.png)\n",
    "\n",
    "However, in the following code will check the existence of limit for the same values above. "
   ]
  },
  {
   "attachments": {},
   "cell_type": "markdown",
   "metadata": {},
   "source": [
    "In the computation may appear that the calculation can encounter an overflow issue with extremely large values of nth term. In such cases, the computation may not be feasible using standard numerical approaches.\n",
    "\n",
    "A valid workaround is to apply numerical approximation technique to estimate the resul. On this case, where we want to determine the limit, ```np.isclose``` function from NumPy can check if the partial sum is close to infinity:"
   ]
  },
  {
   "cell_type": "code",
   "execution_count": 17,
   "metadata": {},
   "outputs": [
    {
     "data": {
      "text/plain": [
       "True"
      ]
     },
     "execution_count": 17,
     "metadata": {},
     "output_type": "execute_result"
    }
   ],
   "source": [
    "import numpy as np\n",
    "\n",
    "def check_geometric_series_limit(\n",
    "        nth_term: float | int,\n",
    "        start_term_a: float | int,\n",
    "        common_ratio_r: float | int) -> bool:\n",
    "    \"\"\"Check the limit of a geometric series.\n",
    "\n",
    "    Calculates the partial sum of a geometric series and checks if the partial sum\n",
    "    approaches infinity.\n",
    "\n",
    "    Args:\n",
    "        nth_term: The index of the last term in the series.\n",
    "        start_term_a: The value of the first term in the series.\n",
    "        common_ratio_r: The common ratio between terms in the series.\n",
    "\n",
    "    Returns:\n",
    "        True if the limit of the geometric series is infinity, False otherwise.\n",
    "\n",
    "    Examples:\n",
    "        >>> check_geometric_series_limit(43200000, 203.132, 32944.3)\n",
    "        True\n",
    "    \"\"\"\n",
    "\n",
    "    # Define the variables\n",
    "    a = start_term_a\n",
    "    r = common_ratio_r\n",
    "\n",
    "    # Calculate the partial sum of the geometric series using logarithmic approach\n",
    "    if np.isclose(r, 1):\n",
    "        partial_sum = a * (nth_term + 1)\n",
    "    elif r > 1:\n",
    "        partial_sum = np.inf\n",
    "    else:\n",
    "        partial_sum = a * (1 - np.exp(nth_term * np.log(r))) / (1 - r)\n",
    "\n",
    "    # Check the limit\n",
    "    if np.isclose(partial_sum, np.inf):\n",
    "        return True\n",
    "    return False"
   ]
  }
 ],
 "metadata": {
  "kernelspec": {
   "display_name": "venv_competences",
   "language": "python",
   "name": "python3"
  },
  "language_info": {
   "codemirror_mode": {
    "name": "ipython",
    "version": 3
   },
   "file_extension": ".py",
   "mimetype": "text/x-python",
   "name": "python",
   "nbconvert_exporter": "python",
   "pygments_lexer": "ipython3",
   "version": "3.11.0rc1"
  },
  "orig_nbformat": 4
 },
 "nbformat": 4,
 "nbformat_minor": 2
}
