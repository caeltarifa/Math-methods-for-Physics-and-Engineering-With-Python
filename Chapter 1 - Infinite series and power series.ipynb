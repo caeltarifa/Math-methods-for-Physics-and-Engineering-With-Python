{
 "cells": [
  {
   "attachments": {},
   "cell_type": "markdown",
   "metadata": {},
   "source": [
    "## <span style=\"color:#FFA500;\">Summation of series</span>"
   ]
  },
  {
   "attachments": {},
   "cell_type": "markdown",
   "metadata": {},
   "source": [
    "### <span style=\"color:#FFA500;\">Arithmetic series</span>"
   ]
  },
  {
   "attachments": {
    "image-2.png": {
     "image/png": "[encoded data removed]"
    },
    "image-3.png": {
     "image/png": "[encoded data removed]"
    }
   },
   "cell_type": "markdown",
   "metadata": {},
   "source": [
    "The relevant charasteristic is that the difference between sucessions is constant\n",
    "<center>\n",
    "\n",
    "![image-3.png](attachment:image-3.png)\n",
    "</center>\n",
    "rewritten the expression, we have\n",
    "<center>\n",
    "\n",
    "![image-2.png](attachment:image-2.png)\n",
    "<center>"
   ]
  },
  {
   "cell_type": "code",
   "execution_count": null,
   "metadata": {},
   "outputs": [],
   "source": [
    "def arithmetic_serie(start_term_a: float | int ,\n",
    "                     nth_term: int , \n",
    "                     constant_ratio_d: float | int) -> float | int:\n",
    "    \"\"\"\n",
    "    Calculates the sum of an arithmetic series.\n",
    "\n",
    "    Args:\n",
    "        start_term_a: The first term of the arithmetic series.\n",
    "        nth_term: The position of the term to be calculated.\n",
    "        constant_ratio_d: The common difference between consecutive terms.\n",
    "\n",
    "    Returns:\n",
    "        The sum of the arithmetic series up to the nth term.\n",
    "\n",
    "    Example:\n",
    "    >>> arithmetic_serie(43.322, 8000,43.6)\n",
    "    1395372176.0\n",
    "    \"\"\"\n",
    "    first_term = start_term_a\n",
    "    last_term = start_term_a + ((nth_term-1)*constant_ratio_d)\n",
    "    return nth_term/2 * (first_term + last_term)"
   ]
  },
  {
   "attachments": {},
   "cell_type": "markdown",
   "metadata": {},
   "source": [
    "### <span style=\"color:#FFA500;\">Geometric series</span>"
   ]
  },
  {
   "attachments": {
    "image-2.png": {
     "image/png": "[encoded data removed]"
    }
   },
   "cell_type": "markdown",
   "metadata": {},
   "source": [
    "As a simple example of many of the ideas involved in series, we are going to consider\n",
    "the geometric series. You may recall that in a geometric progression we multiply\n",
    "each term by some ﬁxed number to get the next term. For example, the sequences are geometric progressions:\n",
    "<center>\n",
    "\n",
    "![image-2.png](attachment:image-2.png)\n",
    "</center>"
   ]
  },
  {
   "attachments": {
    "image-2.png": {
     "image/png": "[encoded data removed]"
    }
   },
   "cell_type": "markdown",
   "metadata": {},
   "source": [
    "And, by the exposed, this is the general form:\n",
    "<center>\n",
    "\n",
    "![image-2.png](attachment:image-2.png)\n",
    "</center>"
   ]
  },
  {
   "cell_type": "code",
   "execution_count": null,
   "metadata": {},
   "outputs": [],
   "source": [
    "def geometric_series(\n",
    "    nth_term: float | int,\n",
    "    start_term_a: float | int,\n",
    "    common_ratio_r: float | int,\n",
    ") -> list[float | int]:\n",
    "    \"\"\"\n",
    "    Pure Python implementation of Geometric Series algorithm\n",
    "\n",
    "    :param nth_term: The last term (nth term of Geometric Series)\n",
    "    :param start_term_a : The first term of Geometric Series\n",
    "    :param common_ratio_r : The common ratio between all the terms\n",
    "    :return: The Geometric Series starting from first term a and multiple of common\n",
    "        ration with first term with increase in power till last term (nth term)\n",
    "    Examples:\n",
    "    >>> geometric_series(4, 2, 2)\n",
    "    [2, 4.0, 8.0, 16.0]\n",
    "    >>> geometric_series(4.0, 2.0, 2.0)\n",
    "    [2.0, 4.0, 8.0, 16.0]\n",
    "    >>> geometric_series(4.1, 2.1, 2.1)\n",
    "    [2.1, 4.41, 9.261000000000001, 19.448100000000004]\n",
    "    >>> geometric_series(4, 2, -2)\n",
    "    [2, -4.0, 8.0, -16.0]\n",
    "    >>> geometric_series(4, -2, 2)\n",
    "    [-2, -4.0, -8.0, -16.0]\n",
    "    >>> geometric_series(-4, 2, 2)\n",
    "    []\n",
    "    >>> geometric_series(0, 100, 500)\n",
    "    []\n",
    "    >>> geometric_series(1, 1, 1)\n",
    "    [1]\n",
    "    >>> geometric_series(0, 0, 0)\n",
    "    []\n",
    "    \"\"\"\n",
    "    if not all((nth_term, start_term_a, common_ratio_r)):\n",
    "        return []\n",
    "    series: list[float | int] = []\n",
    "    power = 1\n",
    "    multiple = common_ratio_r\n",
    "    for _ in range(int(nth_term)):\n",
    "        if not series:\n",
    "            series.append(start_term_a)\n",
    "        else:\n",
    "            power += 1\n",
    "            series.append(float(start_term_a * multiple))\n",
    "            multiple = pow(float(common_ratio_r), power)\n",
    "    return series"
   ]
  },
  {
   "cell_type": "code",
   "execution_count": null,
   "metadata": {},
   "outputs": [],
   "source": [
    "nth_term = float(input(\"Enter the last number (n term) of the Geometric Series\"))\n",
    "start_term_a = float(input(\"Enter the starting term (a) of the Geometric Series\"))\n",
    "common_ratio_r = float(\n",
    "    input(\"Enter the common ratio between two terms (r) of the Geometric Series\")\n",
    ")\n",
    "print(\"Formula of Geometric Series => a + ar + ar^2 ... +ar^n\")\n",
    "print(geometric_series(nth_term, start_term_a, common_ratio_r))"
   ]
  },
  {
   "attachments": {},
   "cell_type": "markdown",
   "metadata": {},
   "source": [
    "### <span style=\"color:#FFA500;\">Sum of a successive series</span>"
   ]
  },
  {
   "attachments": {
    "image-2.png": {
     "image/png": "[encoded data removed]"
    },
    "image.png": {
     "image/png": "[encoded data removed]"
    }
   },
   "cell_type": "markdown",
   "metadata": {},
   "source": [
    "Since the sum of n terms of the geometric progression\n",
    "<center>\n",
    "    \n",
    "![image.png](attachment:image.png) \n",
    "\n",
    "</center>\n",
    "\n",
    "It is possible to calculate the sum of the geometric serie (if this has one) by the below definition:\n",
    "\n",
    "<center>\n",
    "\n",
    "![image-2.png](attachment:image-2.png)\n",
    "</center>\n",
    "However, in the following code will check the existence of limit for the same values above. "
   ]
  },
  {
   "attachments": {},
   "cell_type": "markdown",
   "metadata": {},
   "source": [
    "In the computation may appear that the calculation can encounter an overflow issue with extremely large values of nth term. In such cases, the computation may not be feasible using standard numerical approaches.\n",
    "\n",
    "A valid workaround is to apply numerical approximation technique to estimate the resul. On this case, where we want to determine the limit, ```np.isclose``` function from NumPy can check if the partial sum is close to infinity:"
   ]
  },
  {
   "cell_type": "code",
   "execution_count": null,
   "metadata": {},
   "outputs": [],
   "source": [
    "import numpy as np\n",
    "\n",
    "def check_geometric_series_limit(\n",
    "        nth_term: float | int,\n",
    "        start_term_a: float | int,\n",
    "        common_ratio_r: float | int) -> bool:\n",
    "    \"\"\"Check the limit of a geometric series.\n",
    "\n",
    "    Calculates the partial sum of a geometric series and checks if the partial sum\n",
    "    approaches infinity.\n",
    "\n",
    "    Args:\n",
    "        nth_term: The index of the last term in the series.\n",
    "        start_term_a: The value of the first term in the series.\n",
    "        common_ratio_r: The common ratio between terms in the series.\n",
    "\n",
    "    Returns:\n",
    "        True if the limit of the geometric series is infinity, False otherwise.\n",
    "\n",
    "    Examples:\n",
    "        >>> check_geometric_series_limit(43200000, 203.132, 32944.3)\n",
    "        True\n",
    "    \"\"\"\n",
    "\n",
    "    # Define the variables\n",
    "    a = start_term_a\n",
    "    r = common_ratio_r\n",
    "\n",
    "    # Calculate the partial sum of the geometric series using logarithmic approach\n",
    "    if np.isclose(r, 1):\n",
    "        partial_sum = a * (nth_term + 1)\n",
    "    elif r > 1:\n",
    "        partial_sum = np.inf\n",
    "    else:\n",
    "        partial_sum = a * (1 - np.exp(nth_term * np.log(r))) / (1 - r)\n",
    "\n",
    "    # Check the limit\n",
    "    if np.isclose(partial_sum, np.inf):\n",
    "        return True\n",
    "    return False"
   ]
  },
  {
   "attachments": {},
   "cell_type": "markdown",
   "metadata": {},
   "source": [
    "### <span style=\"color:#FFA500;\">Arithmetico-geometric series</span>"
   ]
  },
  {
   "attachments": {
    "image-2.png": {
     "image/png": "[encoded data removed]"
    },
    "image-3.png": {
     "image/png": "[encoded data removed]"
    },
    "image-4.png": {
     "image/png": "[encoded data removed]"
    },
    "image-5.png": {
     "image/png": "[encoded data removed]"
    },
    "image.png": {
     "image/png": "[encoded data removed]"
    }
   },
   "cell_type": "markdown",
   "metadata": {},
   "source": [
    "In Arithmetico-geometric series, as its name suggests, is a conbined arihmeic and geometric series. The general form is\n",
    "\n",
    "![image.png](attachment:image.png)\n",
    "\n",
    "For infinite series with ![image-2.png](attachment:image-2.png) conditions and the sum tends to the limit\n",
    "\n",
    "![image-3.png](attachment:image-3.png)\n",
    "\n",
    "![image-4.png](attachment:image-4.png)\n",
    "\n",
    "As for a geometric series, if ![image-5.png](attachment:image-5.png), then the series either oscillates or diverges."
   ]
  },
  {
   "attachments": {
    "image-2.png": {
     "image/png": "[encoded data removed]"
    },
    "image.png": {
     "image/png": "[encoded data removed]"
    }
   },
   "cell_type": "markdown",
   "metadata": {},
   "source": [
    "Eg.\n",
    "\n",
    "![image.png](attachment:image.png)\n",
    "\n",
    "In this infinite arithmetico-geometric serie wih ![image-2.png](attachment:image-2.png), the summation is obtained as S=10."
   ]
  },
  {
   "attachments": {},
   "cell_type": "markdown",
   "metadata": {},
   "source": [
    "## <span style=\"color:#FFA500;\">Convergence of infinite series tests</span>"
   ]
  },
  {
   "attachments": {},
   "cell_type": "markdown",
   "metadata": {},
   "source": [
    "### <span style=\"color:#FFA500;\">Convergent and divergent series</span>"
   ]
  },
  {
   "attachments": {
    "image-2.png": {
     "image/png": "[encoded data removed]"
    },
    "image.png": {
     "image/png": "[encoded data removed]"
    }
   },
   "cell_type": "markdown",
   "metadata": {},
   "source": [
    "It is understood that S is a finite number.\n",
    "\n",
    "If S exists, the series is said to be convergent. If S does not exist, the series is said to be divergent.\n",
    "\n",
    "a. If the partial sums S_n of an infinite series tend to limit S, the serie is called convergent.\n",
    "\n",
    "b. The limiting of S is called the sum of the series.\n",
    "\n",
    "c. The difference ![image.png](attachment:image.png) is called the remainder or the remainder after n terms.\n",
    "\n",
    "![image-2.png](attachment:image-2.png)"
   ]
  },
  {
   "cell_type": "code",
   "execution_count": null,
   "metadata": {},
   "outputs": [],
   "source": [
    "from enum import Enum\n",
    "from ta import Indicator\n",
    "from ta.trend.strength import trend_strength\n",
    "from ta.volatility import AverageTrueRangeIndicator\n",
    "from ta.momentum import rsi\n",
    "from ta.utils import IndicatorMixin\n",
    "import numpy as np\n",
    "\n",
    "\n",
    "class ConvergenceDivergenceIndicator(IndicatorMixin, Indicator):\n",
    "    class ConvergenceDivergenceType(Enum):\n",
    "        POSITIVE_CONVERGENT = \"positiveConvergent\"\n",
    "        NEGATIVE_CONVERGENT = \"negativeConvergent\"\n",
    "        POSITIVE_DIVERGENT = \"positiveDivergent\"\n",
    "        NEGATIVE_DIVERGENT = \"negativeDivergent\"\n",
    "\n",
    "    class ConvergenceDivergenceStrictType(Enum):\n",
    "        POSITIVE_CONVERGENT_STRICT = \"positiveConvergentStrict\"\n",
    "        NEGATIVE_CONVERGENT_STRICT = \"negativeConvergentStrict\"\n",
    "        POSITIVE_DIVERGENT_STRICT = \"positiveDivergentStrict\"\n",
    "        NEGATIVE_DIVERGENT_STRICT = \"negativeDivergentStrict\"\n",
    "\n",
    "    def __init__(self, ref, other, bar_count, type=None, strict_type=None, min_strength=0.8, min_slope=0.3):\n",
    "        self.ref = ref\n",
    "        self.other = other\n",
    "        self.bar_count = bar_count\n",
    "        self.type = type\n",
    "        self.strict_type = strict_type\n",
    "        self.min_strength = min_strength\n",
    "        self.min_slope = min_slope\n",
    "\n",
    "    def _calculate(self):\n",
    "        if self.min_strength == 0:\n",
    "            return False\n",
    "\n",
    "        if self.type is not None:\n",
    "            if self.type == self.ConvergenceDivergenceType.POSITIVE_CONVERGENT:\n",
    "                return self._calculate_positive_convergence()\n",
    "            elif self.type == self.ConvergenceDivergenceType.NEGATIVE_CONVERGENT:\n",
    "                return self._calculate_negative_convergence()\n",
    "            elif self.type == self.ConvergenceDivergenceType.POSITIVE_DIVERGENT:\n",
    "                return self._calculate_positive_divergence()\n",
    "            elif self.type == self.ConvergenceDivergenceType.NEGATIVE_DIVERGENT:\n",
    "                return self._calculate_negative_divergence()\n",
    "\n",
    "        elif self.strict_type is not None:\n",
    "            if self.strict_type == self.ConvergenceDivergenceStrictType.POSITIVE_CONVERGENT_STRICT:\n",
    "                return self._calculate_positive_convergence_strict()\n",
    "            elif self.strict_type == self.ConvergenceDivergenceStrictType.NEGATIVE_CONVERGENT_STRICT:\n",
    "                return self._calculate_negative_convergence_strict()\n",
    "            elif self.strict_type == self.ConvergenceDivergenceStrictType.POSITIVE_DIVERGENT_STRICT:\n",
    "                return self._calculate_positive_divergence_strict()\n",
    "            elif self.strict_type == self.ConvergenceDivergenceStrictType.NEGATIVE_DIVERGENT_STRICT:\n",
    "                return self._calculate_negative_divergence_strict()\n",
    "\n",
    "    def _calculate_positive_convergence(self):\n",
    "        # Calculate positive convergence\n",
    "        ref_values = self.ref\n",
    "        other_values = self.other\n",
    "\n",
    "        ref_changes = np.diff(ref_values)\n",
    "        other_changes = np.diff(other_values)\n",
    "\n",
    "        ref_positive_changes = ref_changes[ref_changes > 0]\n",
    "        other_positive_changes = other_changes[other_changes > 0]\n",
    "\n",
    "        ref_change_sum = np.sum(ref_positive_changes)\n",
    "        other_change_sum = np.sum(other_positive_changes)\n",
    "\n",
    "        ref_avg_change = ref_change_sum / len(ref_positive_changes)\n",
    "        other_avg_change = other_change_sum / len(other_positive_changes)\n",
    "\n",
    "        if ref_avg_change > other_avg_change:\n",
    "            return True\n",
    "\n",
    "        return False\n",
    "\n",
    "    def _calculate_negative_convergence(self):\n",
    "        # Calculate negative convergence\n",
    "        ref_values = self.ref\n",
    "        other_values = self.other\n",
    "\n",
    "        ref_changes = np.diff(ref_values)\n",
    "        other_changes = np.diff(other_values)\n",
    "\n",
    "        ref_negative_changes = ref_changes[ref_changes < 0]\n",
    "        other_negative_changes = other_changes[other_changes < 0]\n",
    "\n",
    "        ref_change_sum = np.sum(ref_negative_changes)\n",
    "        other_change_sum = np.sum(other_negative_changes)\n",
    "\n",
    "        ref_avg_change = ref_change_sum / len(ref_negative_changes)\n",
    "        other_avg_change = other_change_sum / len(other_negative_changes)\n",
    "\n",
    "        if ref_avg_change < other_avg_change:\n",
    "            return True\n",
    "\n",
    "        return False\n",
    "\n",
    "    def _calculate_positive_divergence(self):\n",
    "        # Calculate positive divergence\n",
    "        ref_values = self.ref\n",
    "        other_values = self.other\n",
    "\n",
    "        ref_changes = np.diff(ref_values)\n",
    "        other_changes = np.diff(other_values)\n",
    "\n",
    "        ref_positive_changes = ref_changes[ref_changes > 0]\n",
    "        other_positive_changes = other_changes[other_changes > 0]\n",
    "\n",
    "        ref_change_sum = np.sum(ref_positive_changes)\n",
    "        other_change_sum = np.sum(other_positive_changes)\n",
    "\n",
    "        ref_avg_change = ref_change_sum / len(ref_positive_changes)\n",
    "        other_avg_change = other_change_sum / len(other_positive_changes)\n",
    "\n",
    "        if ref_avg_change < other_avg_change:\n",
    "            return True\n",
    "\n",
    "        return False\n",
    "\n",
    "    def _calculate_negative_divergence(self):\n",
    "        # Calculate negative divergence\n",
    "        ref_values = self.ref\n",
    "        other_values = self.other\n",
    "\n",
    "        ref_changes = np.diff(ref_values)\n",
    "        other_changes = np.diff(other_values)\n",
    "\n",
    "        ref_negative_changes = ref_changes[ref_changes < 0]\n",
    "        other_negative_changes = other_changes[other_changes < 0]\n",
    "\n",
    "        ref_change_sum = np.sum(ref_negative_changes)\n",
    "        other_change_sum = np.sum(other_negative_changes)\n",
    "\n",
    "        ref_avg_change = ref_change_sum / len(ref_negative_changes)\n",
    "        other_avg_change = other_change_sum / len(other_negative_changes)\n",
    "\n",
    "        if ref_avg_change > other_avg_change:\n",
    "            return True\n",
    "\n",
    "        return False\n",
    "\n",
    "    def _calculate_positive_convergence_strict(self):\n",
    "        # Calculate strict positive convergence\n",
    "        ref_values = self.ref\n",
    "        other_values = self.other\n",
    "\n",
    "        ref_changes = np.diff(ref_values)\n",
    "        other_changes = np.diff(other_values)\n",
    "\n",
    "        ref_positive_changes = ref_changes[ref_changes > 0]\n",
    "        other_positive_changes = other_changes[other_changes > 0]\n",
    "\n",
    "        if len(ref_positive_changes) >= self.bar_count and len(other_positive_changes) >= self.bar_count:\n",
    "            ref_change_sum = np.sum(ref_positive_changes[:self.bar_count])\n",
    "            other_change_sum = np.sum(other_positive_changes[:self.bar_count])\n",
    "\n",
    "            ref_avg_change = ref_change_sum / self.bar_count\n",
    "            other_avg_change = other_change_sum / self.bar_count\n",
    "\n",
    "            if ref_avg_change > other_avg_change and trend_strength(ref_positive_changes) > self.min_strength:\n",
    "                return True\n",
    "\n",
    "        return False\n",
    "\n",
    "    def _calculate_negative_convergence_strict(self):\n",
    "        # Calculate strict negative convergence\n",
    "        ref_values = self.ref\n",
    "        other_values = self.other\n",
    "\n",
    "        ref_changes = np.diff(ref_values)\n",
    "        other_changes = np.diff(other_values)\n",
    "\n",
    "        ref_negative_changes = ref_changes[ref_changes < 0]\n",
    "        other_negative_changes = other_changes[other_changes < 0]\n",
    "\n",
    "        if len(ref_negative_changes) >= self.bar_count and len(other_negative_changes) >= self.bar_count:\n",
    "            ref_change_sum = np.sum(ref_negative_changes[:self.bar_count])\n",
    "            other_change_sum = np.sum(other_negative_changes[:self.bar_count])\n",
    "\n",
    "            ref_avg_change = ref_change_sum / self.bar_count\n",
    "            other_avg_change = other_change_sum / self.bar_count\n",
    "\n",
    "            if ref_avg_change < other_avg_change and trend_strength(ref_negative_changes) > self.min_strength:\n",
    "                return True\n",
    "\n",
    "        return False\n",
    "\n",
    "    def _calculate_positive_divergence_strict(self):\n",
    "        # Calculate strict positive divergence\n",
    "        ref_values = self.ref\n",
    "        other_values = self.other\n",
    "\n",
    "        ref_changes = np.diff(ref_values)\n",
    "        other_changes = np.diff(other_values)\n",
    "\n",
    "        ref_positive_changes = ref_changes[ref_changes > 0]\n",
    "        other_positive_changes = other_changes[other_changes > 0]\n",
    "\n",
    "        if len(ref_positive_changes) >= self.bar_count and len(other_positive_changes) >= self.bar_count:\n",
    "            ref_change_sum = np.sum(ref_positive_changes[:self.bar_count])\n",
    "            other_change_sum = np.sum(other_positive_changes[:self.bar_count])\n",
    "\n",
    "            ref_avg_change = ref_change_sum / self.bar_count\n",
    "            other_avg_change = other_change_sum / self.bar_count\n",
    "\n",
    "            if ref_avg_change < other_avg_change and trend_strength(ref_positive_changes) > self.min_strength:\n",
    "                return True\n",
    "\n",
    "        return False\n",
    "\n",
    "    def _calculate_negative_divergence_strict(self):\n",
    "        # Calculate strict negative divergence\n",
    "        ref_values = self.ref\n",
    "        other_values = self.other\n",
    "\n",
    "        ref_changes = np.diff(ref_values)\n",
    "        other_changes = np.diff(other_values)\n",
    "\n",
    "        ref_negative_changes = ref_changes[ref_changes < 0]\n",
    "        other_negative_changes = other_changes[other_changes < 0]\n",
    "\n",
    "        if len(ref_negative_changes) >= self.bar_count and len(other_negative_changes) >= self.bar_count:\n",
    "            ref_change_sum = np.sum(ref_negative_changes[:self.bar_count])\n",
    "            other_change_sum = np.sum(other_negative_changes[:self.bar_count])\n",
    "\n",
    "            ref_avg_change = ref_change_sum / self.bar_count\n",
    "            other_avg_change = other_change_sum / self.bar_count\n",
    "\n",
    "            if ref_avg_change > other_avg_change and trend_strength(ref_negative_changes) > self.min_strength:\n",
    "                return True\n",
    "\n",
    "        return False\n",
    "\n",
    "# Usage example:\n",
    "ref = [1, 2, 3, 4, 5]\n",
    "other = [2, 4, 6, 8, 10]\n",
    "\n",
    "indicator = ConvergenceDivergenceIndicator(ref, other, 3, type=ConvergenceDivergenceIndicator.ConvergenceDivergenceType.POSITIVE_CONVERGENT)\n",
    "result = indicator._calculate()\n",
    "print(result)"
   ]
  },
  {
   "attachments": {},
   "cell_type": "markdown",
   "metadata": {},
   "source": [
    "### <span style=\"color:#FFA500;\">The comparison test </span>\n",
    "### <span style=\"color:#FFA500;\">The integral test</span>\n",
    "### <span style=\"color:#FFA500;\">The ratio test</span>\n",
    "### <span style=\"color:#FFA500;\">A special comparison test</span>\n"
   ]
  },
  {
   "attachments": {},
   "cell_type": "markdown",
   "metadata": {},
   "source": [
    "## <span style=\"color:#FFA500;\">Power series</span>"
   ]
  },
  {
   "attachments": {},
   "cell_type": "markdown",
   "metadata": {},
   "source": [
    "## <span style=\"color:#FFA500;\">Taylor series</span>"
   ]
  },
  {
   "attachments": {},
   "cell_type": "markdown",
   "metadata": {},
   "source": [
    "## <span style=\"color:#FFA500;\">Techniques for obtaining Power Series Expansion</span>"
   ]
  }
 ],
 "metadata": {
  "kernelspec": {
   "display_name": "venv_competences",
   "language": "python",
   "name": "python3"
  },
  "language_info": {
   "codemirror_mode": {
    "name": "ipython",
    "version": 3
   },
   "file_extension": ".py",
   "mimetype": "text/x-python",
   "name": "python",
   "nbconvert_exporter": "python",
   "pygments_lexer": "ipython3",
   "version": "3.11.0"
  },
  "orig_nbformat": 4
 },
 "nbformat": 4,
 "nbformat_minor": 2
}
