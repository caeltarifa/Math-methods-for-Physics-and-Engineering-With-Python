{
 "cells": [
  {
   "cell_type": "markdown",
   "metadata": {},
   "source": [
    "## <span style=\"color:#FFA500;\">Series</span>\n",
    "Many examples exist in the physical sciences of situations where we are presented with a sum of terms to evaluate. A series may have either a finite or infinite number of terms. \n",
    "\n",
    "In either case, the sum of the first N terms of a series (often called a partial sum) such that\n",
    "\n",
    "\\begin{equation*}\n",
    "    S_N = u_1 + u_2 + u_3 + \\ldots + u_N\n",
    "\\end{equation*}\n",
    "\n",
    "For cases of practical interest, there will usually be some sort of relationship between successive terms. For example, if the nth term of a series is given by\n",
    "\n",
    "$$\n",
    "u_n = \\frac{1}{2^n}\n",
    "$$\n",
    "\n",
    "for `n = 1, 2, 3, ... , N` then the sum of the first `N` terms, in the partial sum, will be\n",
    "\n",
    "\\begin{align}\n",
    "    \\begin{aligned}\n",
    "        S_N = \\sum_{n=1}^{N} \\frac{1}{2^n} = \\frac{1}{2} + \\frac{1}{4} + \\frac{1}{8} + \\ldots + \\frac{1}{2^N}\n",
    "    \\end{aligned}\n",
    "    \\tag{1.1}\n",
    "\\end{align}\n"
   ]
  },
  {
   "attachments": {},
   "cell_type": "markdown",
   "metadata": {},
   "source": [
    "## <span style=\"color:#FFA500;\">Summation of series</span>\n",
    "\n",
    "Determine sum of a infinite series or convergent infinite series. Below are described common series and for which the sums are easily found. "
   ]
  },
  {
   "attachments": {},
   "cell_type": "markdown",
   "metadata": {},
   "source": [
    "### <span style=\"color:#FFA500;\">Arithmetic series</span>"
   ]
  },
  {
   "cell_type": "markdown",
   "metadata": {},
   "source": [
    "A relevant charasteristic is the constant in the difference between sucessions. The sum of a general arithmetic series is writen:\n",
    "\n",
    "\\begin{align}\n",
    "    \\begin{aligned}\n",
    "        S_N &= \\sum_{n=0}^{N-1} (a + nd)  \\\\\n",
    "         &= \\frac{N}{2} [a + a + (N-1)d] \\\\\n",
    "         &= \\frac{N(a_0 + a_N)}{2} \n",
    "    \\end{aligned}\n",
    "    \\tag{1.2}\n",
    "\\end{align}\n",
    "\n",
    "If an infinite number of such series are added the series will increase (or decrease) indefinitely; it means it diverges."
   ]
  },
  {
   "attachments": {},
   "cell_type": "markdown",
   "metadata": {},
   "source": [
    "### <span style=\"color:#FFA500;\">Geometric series</span>"
   ]
  },
  {
   "cell_type": "markdown",
   "metadata": {},
   "source": [
    "Equation (1.1) is a particular example of a *geometric series*, which has the characteristic that the radio of succesive terms is a constant.\n",
    "\n",
    "The sum of geometric series is in general written as\n",
    "\n",
    "\\begin{align}\n",
    "    \\begin{aligned}\n",
    "        S_N &= a + ar + ar^2 + \\ldots + ar^{N-1} \\\\ \n",
    "         &= \\sum_{n=0}^{N-1} ar^n  \\\\\n",
    "         &= \\frac{a(1 - r^N)}{1 - r} \\\\\n",
    "    \\end{aligned}\n",
    "    \\tag{1.3}\n",
    "\\end{align}\n",
    "\n",
    "where `a` is a constant and `r` is the ratio of successive terms, the *common ratio*.\n",
    "\n",
    "For series of an infinite number of terms and $\\lvert r \\rvert < 1$, we have the $\\lim_{{N \\to \\infty}} r^N = 0$, and the sum tends to the limit \n",
    "\n",
    "\\begin{align}\n",
    "    \\begin{aligned}\n",
    "        S = \\frac{a}{1 - r}\n",
    "    \\end{aligned}\n",
    "    \\tag{1.4}\n",
    "\\end{align}\n",
    "\n",
    "For $\\lvert r \\rvert ≥ 1$, however, the series either diverges or oscillates."
   ]
  },
  {
   "attachments": {},
   "cell_type": "markdown",
   "metadata": {},
   "source": [
    "### <span style=\"color:#FFA500;\">Arithmetico-geometric series</span>"
   ]
  },
  {
   "cell_type": "markdown",
   "metadata": {},
   "source": [
    "It is a conbined arithmetic and geometric series. The general form is\n",
    "\n",
    "\\begin{align}\n",
    "    \\begin{aligned}\n",
    "        S_N &= a + (a + d)r + (a + 2d)r^2 + \\ldots + [a + (N - 1)d] r^{N-1}\\\\ \n",
    "         &= \\sum_{n=0}^{N-1} (a + nd)r^n \\\\\n",
    "         &= \\frac{a}{1-r} + \\frac{rd}{(1 - r)^2}\\\\\n",
    "    \\end{aligned}\n",
    "    \\tag{1.5}\n",
    "\\end{align}\n",
    "\n",
    "Using the expression of a geometric series `(1.3)` and considering an infinite series with $ \\lvert r \\rvert < 1, \\lim_{{N \\to \\infty}} r^N = 0$ then the sum tends to the fraction as limit.\n",
    "\n",
    "As for a geometric series, if $ \\lvert r \\rvert ≥ 1 $ then the series either diverges or oscillates.\n",
    "\n",
    "    Example: \n",
    "$$ S = 2 + \\frac{5}{2} + \\frac{8}{2^2} + \\frac{11}{2^3} + \\ldots  $$\n",
    "\n",
    "This is an infinite arithmetico-geometric series with $a = 2, d = 3$ and $r = 1/2$. Therefore, from `(1.5)`, we obtain $S = 10$. "
   ]
  }
 ],
 "metadata": {
  "kernelspec": {
   "display_name": "Python 3 (ipykernel)",
   "language": "python",
   "name": "python3"
  },
  "language_info": {
   "codemirror_mode": {
    "name": "ipython",
    "version": 3
   },
   "file_extension": ".py",
   "mimetype": "text/x-python",
   "name": "python",
   "nbconvert_exporter": "python",
   "pygments_lexer": "ipython3",
   "version": "3.11.0"
  }
 },
 "nbformat": 4,
 "nbformat_minor": 4
}
