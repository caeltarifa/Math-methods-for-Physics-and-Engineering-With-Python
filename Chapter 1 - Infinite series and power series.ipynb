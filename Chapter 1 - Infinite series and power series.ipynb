{
 "cells": [
  {
   "cell_type": "markdown",
   "metadata": {},
   "source": [
    "## <span style=\"color:#FFA500;\">Series</span>\n",
    "Many examples exist in the physical sciences of situations where we are presented with a sum of terms to evaluate. A series may have either a finite or infinite number of terms. \n",
    "\n",
    "In either case, the sum of the first N terms of a series (often called a partial sum) such that\n",
    "\n",
    "\\begin{equation*}\n",
    "    S_N = u_1 + u_2 + u_3 + \\ldots + u_N\n",
    "\\end{equation*}\n",
    "\n",
    "For cases of practical interest, there will usually be some sort of relationship between successive terms. For example, if the nth term of a series is given by\n",
    "\n",
    "$$\n",
    "u_n = \\frac{1}{2^n}\n",
    "$$\n",
    "\n",
    "for `n = 1, 2, 3, ... , N` then the sum of the first `N` terms, in the partial sum, will be\n",
    "\n",
    "\\begin{align}\n",
    "    \\begin{aligned}\n",
    "        S_N = \\sum_{n=1}^{N} \\frac{1}{2^n} = \\frac{1}{2} + \\frac{1}{4} + \\frac{1}{8} + \\ldots + \\frac{1}{2^N}\n",
    "    \\end{aligned}\n",
    "    \\tag{1.1}\n",
    "\\end{align}\n"
   ]
  },
  {
   "attachments": {},
   "cell_type": "markdown",
   "metadata": {},
   "source": [
    "## <span style=\"color:#FFA500;\">Summation of series</span>\n",
    "\n",
    "Determine sum of a infinite series or convergent infinite series. Below are described common series and for which the sums are easily found. "
   ]
  },
  {
   "attachments": {},
   "cell_type": "markdown",
   "metadata": {},
   "source": [
    "### <span style=\"color:#FFA500;\">Arithmetic series</span>"
   ]
  },
  {
   "cell_type": "markdown",
   "metadata": {},
   "source": [
    "A relevant charasteristic is the constant in the difference between sucessions. The sum of a general arithmetic series is writen:\n",
    "\n",
    "\\begin{align}\n",
    "    \\begin{aligned}\n",
    "        S_N &= \\sum_{n=0}^{N-1} (a + nd)  \\\\\n",
    "         &= \\frac{N}{2} [a + a + (N-1)d] \\\\\n",
    "         &= \\frac{N(a_0 + a_N)}{2} \n",
    "    \\end{aligned}\n",
    "    \\tag{1.2}\n",
    "\\end{align}\n",
    "\n",
    "If an infinite number of such series are added the series will increase (or decrease) indefinitely; it means it diverges."
   ]
  },
  {
   "attachments": {},
   "cell_type": "markdown",
   "metadata": {},
   "source": [
    "### <span style=\"color:#FFA500;\">Geometric series</span>"
   ]
  },
  {
   "cell_type": "markdown",
   "metadata": {},
   "source": [
    "Equation (1.1) is a particular example of a *geometric series*, which has the characteristic that the radio of succesive terms is a constant.\n",
    "\n",
    "The sum of geometric series is in general written as\n",
    "\n",
    "\\begin{align}\n",
    "    \\begin{aligned}\n",
    "        S_N &= a + ar + ar^2 + \\ldots + ar^{N-1} \\\\ \n",
    "         &= \\sum_{n=0}^{N-1} ar^n  \\\\\n",
    "         &= \\frac{a(1 - r^N)}{1 - r} \\\\\n",
    "    \\end{aligned}\n",
    "    \\tag{1.3}\n",
    "\\end{align}\n",
    "\n",
    "where `a` is a constant and `r` is the ratio of successive terms, the *common ratio*.\n",
    "\n",
    "For series of an infinite number of terms and $\\lvert r \\rvert < 1$, we have the $\\lim_{{N \\to \\infty}} r^N = 0$, and the sum tends to the limit \n",
    "\n",
    "\\begin{align}\n",
    "    \\begin{aligned}\n",
    "        S = \\frac{a}{1 - r}\n",
    "    \\end{aligned}\n",
    "    \\tag{1.4}\n",
    "\\end{align}\n",
    "\n",
    "For $\\lvert r \\rvert ≥ 1$, however, the series either diverges or oscillates."
   ]
  },
  {
   "attachments": {},
   "cell_type": "markdown",
   "metadata": {},
   "source": [
    "### <span style=\"color:#FFA500;\">Arithmetico-geometric series</span>"
   ]
  },
  {
   "cell_type": "markdown",
   "metadata": {},
   "source": [
    "It is a conbined arithmetic and geometric series. The general form is\n",
    "\n",
    "\\begin{align}\n",
    "    \\begin{aligned}\n",
    "        S_N &= a + (a + d)r + (a + 2d)r^2 + \\ldots + [a + (N - 1)d] r^{N-1}\\\\ \n",
    "         &= \\sum_{n=0}^{N-1} (a + nd)r^n \\\\\n",
    "         &= \\frac{a}{1-r} + \\frac{rd}{(1 - r)^2}\\\\\n",
    "    \\end{aligned}\n",
    "    \\tag{1.5}\n",
    "\\end{align}\n",
    "\n",
    "Using the expression of a geometric series `(1.3)` and considering an infinite series with $ \\lvert r \\rvert < 1, \\lim_{{N \\to \\infty}} r^N = 0$ then the sum tends to the fraction as limit.\n",
    "\n",
    "As for a geometric series, if $ \\lvert r \\rvert ≥ 1 $ then the series either diverges or oscillates.\n",
    "\n",
    "    Example: \n",
    "$$ S = 2 + \\frac{5}{2} + \\frac{8}{2^2} + \\frac{11}{2^3} + \\ldots  $$\n",
    "\n",
    "This is an infinite arithmetico-geometric series with $a = 2, d = 3$ and $r = 1/2$. Therefore, from `(1.5)`, we obtain $S = 10$. "
   ]
  },
  {
   "cell_type": "markdown",
   "metadata": {},
   "source": [
    "### <span style=\"color:#FFA500;\">The difference method</span>"
   ]
  },
  {
   "cell_type": "markdown",
   "metadata": {},
   "source": [
    "This method can be useful in summing some series that may present another grade of difficulty than the previous series. Consider the expression\n",
    "\n",
    "$$ u_n = f(n) - f(n - 1)  $$\n",
    "\n",
    "then it is included to the general series, rewritten, and got a new expression subsequently by cancelling some terms as follow \n",
    "\n",
    "$$\n",
    "    \\begin{aligned}\n",
    "        S_N &= u_1 + u_2 + \\ldots + u_N\\\\ \n",
    "         &= \\sum_{n=1}^{N} u_n \\\\\n",
    "         &= f(N) - f(0) \\\\\n",
    "         &= [ f(1) - f(0)] + [ f(2) - f(1)] + \\ldots + [ f(N) - f(N - 1)] \\\\\n",
    "         &= f(N) − f(0)\n",
    "    \\end{aligned}\n",
    "$$\n",
    "\n",
    "Hence, for each term, the difference method may be easily extended to evaluate sums that can be expressed by\n",
    "\n",
    "\\begin{align}\n",
    "    \\begin{aligned}\n",
    "        u_n = f(n) − f(n − m)\n",
    "    \\end{aligned}\n",
    "    \\tag{1.6}\n",
    "\\end{align}\n",
    "\n",
    "Where m is an integer. By this form if it is writing out the sum of each term of $N$ and by cancelling terms as before, we find\n",
    "\n",
    "$$\n",
    "S_N = \\sum_{k=1}^{m} [f(N - k + 1) - f(1 - k)]\n",
    "$$"
   ]
  },
  {
   "cell_type": "markdown",
   "metadata": {},
   "source": [
    "### <span style=\"color:#FFA500;\"> Series involving natural numbers </span>"
   ]
  },
  {
   "cell_type": "markdown",
   "metadata": {},
   "source": [
    "As we have seen before, it is possible to calculate the summation for natural numbers like $ 1, 2, 3, \\ldots, N$ by (1.2).\n",
    "\n",
    "This section is intended to evaluate the sum of squares of the first N natural numbers which may be evaluated usign *the difference method*.\n",
    "\n",
    "**Case 1**\n",
    "\n",
    "Given $u_n = n^2$ for each *n*th term and considering the functions \n",
    "$$f(n) = n(n + 1)(2n + 1) \\quad f(n − 1) = (n − 1)n(2n − 1)$$\n",
    "\n",
    "which we need to express in the form $f(n) - f(n-1) = 6n^2 = 6 u_n$, so we can write the general *n*th term of the series as \n",
    "\n",
    "$$\n",
    "u_n = \\frac{1}{6} [f(n) - f(n-1)]\n",
    "$$\n",
    "\n",
    "Therefore, by the difference method\n",
    "\n",
    "$$\n",
    "    \\begin{aligned}\n",
    "        S_N &= 1^2 + 2^2 + 3^2 + \\ldots + N^2 \\\\\n",
    "        &= \\sum_{n=1}^{N} n^2 \\\\\n",
    "        &= \\frac{1}{6} [ f(N) - f(0) ] \\\\\n",
    "        &= \\frac{1}{6} N(N + 1)(2N + 1)\n",
    "    \\end{aligned}\n",
    "$$\n",
    "\n",
    "\n",
    "**Case 2**\n",
    "\n",
    "Given $u_n = n^3$ for each *n*th term and again using the difference method, consider the functions \n",
    "$$f(n) = [n(n + 1)]^2 \\quad f(n − 1) = [(n − 1)n]^2$$\n",
    "\n",
    "which we need to express in the form $f(n) - f(n-1) = 4n^3 = 4 u_n$, so we can write \n",
    "\n",
    "$$\n",
    "u_n = \\frac{1}{4} [f(n) - f(n-1)]\n",
    "$$\n",
    "\n",
    "Therefore, by the difference method\n",
    "\n",
    "$$\n",
    "    \\begin{aligned}\n",
    "        S_N &= 1^3 + 2^3 + 3^3 + \\ldots + N^3 \\\\\n",
    "        &= \\sum_{n=1}^{N} n^3 \\\\\n",
    "        &= \\frac{1}{4} [ f(N) − f(0)]  \\\\\n",
    "        &= \\frac{1}{4} N^2(N + 1)^2\n",
    "    \\end{aligned}\n",
    "$$\n",
    "\n",
    "Note that is the square of the sum of the natural numbers \n",
    "\n",
    "$$\n",
    "\\sum_{n=1}^{N} n^3 = \\left(\\sum_{n=1}^{N} n\\right)^2\n",
    "$$"
   ]
  }
 ],
 "metadata": {
  "kernelspec": {
   "display_name": "Python 3 (ipykernel)",
   "language": "python",
   "name": "python3"
  },
  "language_info": {
   "codemirror_mode": {
    "name": "ipython",
    "version": 3
   },
   "file_extension": ".py",
   "mimetype": "text/x-python",
   "name": "python",
   "nbconvert_exporter": "python",
   "pygments_lexer": "ipython3",
   "version": "3.11.0"
  }
 },
 "nbformat": 4,
 "nbformat_minor": 4
}
