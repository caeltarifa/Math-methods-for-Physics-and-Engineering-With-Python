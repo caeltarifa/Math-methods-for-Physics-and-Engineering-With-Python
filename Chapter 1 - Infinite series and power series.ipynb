{
 "cells": [
  {
   "attachments": {},
   "cell_type": "markdown",
   "metadata": {},
   "source": [
    "## Geometric series"
   ]
  },
  {
   "attachments": {
    "image-2.png": {
     "image/png": "[encoded data removed]"
    }
   },
   "cell_type": "markdown",
   "metadata": {},
   "source": [
    "As a simple example of many of the ideas involved in series, we are going to consider\n",
    "the geometric series. You may recall that in a geometric progression we multiply\n",
    "each term by some ﬁxed number to get the next term. For example, the sequences are geometric progressions:\n",
    "\n",
    "\n",
    "![image-2.png](attachment:image-2.png)"
   ]
  },
  {
   "attachments": {
    "image.png": {
     "image/png": "[encoded data removed]"
    }
   },
   "cell_type": "markdown",
   "metadata": {},
   "source": [
    "And, by the exposed, this is the general form:\n",
    "\n",
    "![image.png](attachment:image.png)"
   ]
  },
  {
   "cell_type": "code",
   "execution_count": 1,
   "metadata": {},
   "outputs": [],
   "source": [
    "def geometric_series(\n",
    "    nth_term: float | int,\n",
    "    start_term_a: float | int,\n",
    "    common_ratio_r: float | int,\n",
    ") -> list[float | int]:\n",
    "    \"\"\"\n",
    "    Pure Python implementation of Geometric Series algorithm\n",
    "\n",
    "    :param nth_term: The last term (nth term of Geometric Series)\n",
    "    :param start_term_a : The first term of Geometric Series\n",
    "    :param common_ratio_r : The common ratio between all the terms\n",
    "    :return: The Geometric Series starting from first term a and multiple of common\n",
    "        ration with first term with increase in power till last term (nth term)\n",
    "    Examples:\n",
    "    >>> geometric_series(4, 2, 2)\n",
    "    [2, 4.0, 8.0, 16.0]\n",
    "    >>> geometric_series(4.0, 2.0, 2.0)\n",
    "    [2.0, 4.0, 8.0, 16.0]\n",
    "    >>> geometric_series(4.1, 2.1, 2.1)\n",
    "    [2.1, 4.41, 9.261000000000001, 19.448100000000004]\n",
    "    >>> geometric_series(4, 2, -2)\n",
    "    [2, -4.0, 8.0, -16.0]\n",
    "    >>> geometric_series(4, -2, 2)\n",
    "    [-2, -4.0, -8.0, -16.0]\n",
    "    >>> geometric_series(-4, 2, 2)\n",
    "    []\n",
    "    >>> geometric_series(0, 100, 500)\n",
    "    []\n",
    "    >>> geometric_series(1, 1, 1)\n",
    "    [1]\n",
    "    >>> geometric_series(0, 0, 0)\n",
    "    []\n",
    "    \"\"\"\n",
    "    if not all((nth_term, start_term_a, common_ratio_r)):\n",
    "        return []\n",
    "    series: list[float | int] = []\n",
    "    power = 1\n",
    "    multiple = common_ratio_r\n",
    "    for _ in range(int(nth_term)):\n",
    "        if not series:\n",
    "            series.append(start_term_a)\n",
    "        else:\n",
    "            power += 1\n",
    "            series.append(float(start_term_a * multiple))\n",
    "            multiple = pow(float(common_ratio_r), power)\n",
    "    return series"
   ]
  },
  {
   "cell_type": "code",
   "execution_count": 6,
   "metadata": {},
   "outputs": [
    {
     "name": "stdout",
     "output_type": "stream",
     "text": [
      "Formula of Geometric Series => a + ar + ar^2 ... +ar^n\n",
      "[4.0, 40.0, 400.0, 4000.0, 40000.0, 400000.0, 4000000.0, 40000000.0, 400000000.0]\n"
     ]
    }
   ],
   "source": [
    "nth_term = float(input(\"Enter the last number (n term) of the Geometric Series\"))\n",
    "start_term_a = float(input(\"Enter the starting term (a) of the Geometric Series\"))\n",
    "common_ratio_r = float(\n",
    "    input(\"Enter the common ratio between two terms (r) of the Geometric Series\")\n",
    ")\n",
    "print(\"Formula of Geometric Series => a + ar + ar^2 ... +ar^n\")\n",
    "print(geometric_series(nth_term, start_term_a, common_ratio_r))"
   ]
  }
 ],
 "metadata": {
  "kernelspec": {
   "display_name": "venv_competences",
   "language": "python",
   "name": "python3"
  },
  "language_info": {
   "codemirror_mode": {
    "name": "ipython",
    "version": 3
   },
   "file_extension": ".py",
   "mimetype": "text/x-python",
   "name": "python",
   "nbconvert_exporter": "python",
   "pygments_lexer": "ipython3",
   "version": "3.11.0"
  },
  "orig_nbformat": 4
 },
 "nbformat": 4,
 "nbformat_minor": 2
}
